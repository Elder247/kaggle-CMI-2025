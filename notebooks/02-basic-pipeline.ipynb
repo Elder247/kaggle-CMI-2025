{
 "cells": [
  {
   "cell_type": "markdown",
   "id": "2c64b538",
   "metadata": {},
   "source": [
    "\n",
    "preprocess_sequence (each one):\n",
    "- scaled = StandardScaler().fit_transform(data)\n",
    "\n",
    "\n",
    "\n",
    "\n",
    "\n"
   ]
  },
  {
   "cell_type": "code",
   "execution_count": null,
   "id": "c8503ff5",
   "metadata": {},
   "outputs": [],
   "source": []
  }
 ],
 "metadata": {
  "language_info": {
   "name": "python"
  }
 },
 "nbformat": 4,
 "nbformat_minor": 5
}
