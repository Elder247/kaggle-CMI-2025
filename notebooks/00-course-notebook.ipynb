{
 "cells": [
  {
   "cell_type": "code",
   "execution_count": null,
   "id": "62f13f8b",
   "metadata": {},
   "outputs": [],
   "source": [
    "import sys\n",
    "import os\n",
    "from IPython.display import display\n",
    "\n",
    "import pandas as pd\n",
    "import numpy as np\n",
    "import matplotlib.pyplot as plt\n",
    "import seaborn as sns\n",
    "\n",
    "sns.set_theme()\n",
    "sys.path.insert(0, os.path.abspath('..'))"
   ]
  },
  {
   "cell_type": "code",
   "execution_count": null,
   "id": "6e6ef9ad",
   "metadata": {},
   "outputs": [],
   "source": [
    "df = pd.read_csv('https://stepik.org/media/attachments/lesson/779915/fs_task3_310f.csv')\n",
    "df"
   ]
  },
  {
   "cell_type": "code",
   "execution_count": null,
   "id": "af871694",
   "metadata": {},
   "outputs": [],
   "source": [
    "df.describe().T.sort_values('mean', ascending=False)#[['mean', 'std']].reset_index(drop=True).plot(kind='bar')"
   ]
  },
  {
   "cell_type": "code",
   "execution_count": null,
   "id": "90c07178",
   "metadata": {},
   "outputs": [],
   "source": [
    "df.hist(figsize=(200, 150))"
   ]
  },
  {
   "cell_type": "code",
   "execution_count": null,
   "id": "0de86222",
   "metadata": {},
   "outputs": [],
   "source": [
    "import scipy.stats as st\n",
    "\n",
    "st.shapiro(df['feature_0'])\n",
    "st.kstest(df['feature_0'], st.norm.cdf)"
   ]
  },
  {
   "cell_type": "code",
   "execution_count": null,
   "id": "5480bd97",
   "metadata": {},
   "outputs": [],
   "source": [
    "tmp_index = (\n",
    "    df\n",
    "    .drop(columns='target')\n",
    "    .apply(lambda col: st.kstest(col, st.norm.cdf).pvalue, axis=0)\n",
    "    .loc[lambda x: x < 0.1]\n",
    "    .index\n",
    ")"
   ]
  },
  {
   "cell_type": "code",
   "execution_count": null,
   "id": "0b3a463a",
   "metadata": {},
   "outputs": [],
   "source": [
    "df.loc[:, tmp_index].describe().T.loc[lambda df: (df['mean'] < 24_000) | (df['mean'] > 28_000)]"
   ]
  },
  {
   "cell_type": "code",
   "execution_count": null,
   "id": "28007862",
   "metadata": {},
   "outputs": [],
   "source": [
    "df.loc[:, tmp_index].describe().T"
   ]
  },
  {
   "cell_type": "code",
   "execution_count": null,
   "id": "a5152359",
   "metadata": {},
   "outputs": [],
   "source": []
  },
  {
   "cell_type": "code",
   "execution_count": null,
   "id": "4998a54b",
   "metadata": {},
   "outputs": [],
   "source": [
    "tmp = (\n",
    "    df\n",
    "    # .loc[:, tmp_index]\n",
    "    .describe()\n",
    "    .T\n",
    "    .loc[lambda df: (df['mean'] < 24_000) | (df['mean'] > 28_000)]\n",
    "    .loc[lambda df: df['mean'] > 0.1]\n",
    "    [['mean', 'std']]\n",
    "    # .plot.scatter(0, 1, loglog=True, figsize=(10, 10))\n",
    "    .index\n",
    ")\n",
    "\n",
    "tmp"
   ]
  },
  {
   "cell_type": "code",
   "execution_count": null,
   "id": "b3d5bf03",
   "metadata": {},
   "outputs": [],
   "source": [
    "print('\\n'.join(tmp))\n",
    "\n",
    "print('len =', len(tmp))"
   ]
  }
 ],
 "metadata": {
  "kernelspec": {
   "display_name": ".venv",
   "language": "python",
   "name": "python3"
  },
  "language_info": {
   "codemirror_mode": {
    "name": "ipython",
    "version": 3
   },
   "file_extension": ".py",
   "mimetype": "text/x-python",
   "name": "python",
   "nbconvert_exporter": "python",
   "pygments_lexer": "ipython3",
   "version": "3.12.3"
  }
 },
 "nbformat": 4,
 "nbformat_minor": 5
}
